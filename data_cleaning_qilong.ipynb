{
  "nbformat": 4,
  "nbformat_minor": 0,
  "metadata": {
    "colab": {
      "provenance": [],
      "include_colab_link": true
    },
    "kernelspec": {
      "name": "python3",
      "display_name": "Python 3"
    },
    "language_info": {
      "name": "python"
    }
  },
  "cells": [
    {
      "cell_type": "markdown",
      "metadata": {
        "id": "view-in-github",
        "colab_type": "text"
      },
      "source": [
        "<a href=\"https://colab.research.google.com/github/TonyDql/summer2023_educ_proj/blob/main/data_cleaning_qilong.ipynb\" target=\"_parent\"><img src=\"https://colab.research.google.com/assets/colab-badge.svg\" alt=\"Open In Colab\"/></a>"
      ]
    },
    {
      "cell_type": "code",
      "source": [
        "import pandas as pd\n",
        "import numpy as np"
      ],
      "metadata": {
        "id": "J9cjscjTbKe7"
      },
      "execution_count": 18,
      "outputs": []
    },
    {
      "cell_type": "code",
      "source": [
        "from google.colab import drive\n",
        "drive.mount('/content/drive')"
      ],
      "metadata": {
        "colab": {
          "base_uri": "https://localhost:8080/"
        },
        "id": "LLV7lCo2bM5U",
        "outputId": "7386bee3-b187-47db-c984-776bcc690deb"
      },
      "execution_count": 3,
      "outputs": [
        {
          "output_type": "stream",
          "name": "stdout",
          "text": [
            "Mounted at /content/drive\n"
          ]
        }
      ]
    },
    {
      "cell_type": "code",
      "execution_count": 4,
      "metadata": {
        "id": "1xfL2o7kbIUH"
      },
      "outputs": [],
      "source": [
        "# Read the csv file\n",
        "df = pd.read_csv('/content/drive/MyDrive/rawdata_longform_full_08-19-22.csv')\n"
      ]
    },
    {
      "cell_type": "code",
      "source": [
        "# Column names\n",
        "print(df.columns)"
      ],
      "metadata": {
        "colab": {
          "base_uri": "https://localhost:8080/"
        },
        "id": "NSDfDSlTc1aw",
        "outputId": "790e01bf-01eb-4fc6-8d34-98ade7779afa"
      },
      "execution_count": 5,
      "outputs": [
        {
          "output_type": "stream",
          "name": "stdout",
          "text": [
            "Index(['ID', 'Global_timestamp', 'Timestamp', 'Event type', 'Event', 'Level',\n",
            "       'Details', 'filename', 'epoch_time', 'object_orientation',\n",
            "       'x_coordinate', 'y_coordinate', 'objects'],\n",
            "      dtype='object')\n"
          ]
        }
      ]
    },
    {
      "cell_type": "code",
      "source": [
        "# First 20 rows as example\n",
        "print(df.head(20))"
      ],
      "metadata": {
        "colab": {
          "base_uri": "https://localhost:8080/"
        },
        "id": "pSXENMbIdbvM",
        "outputId": "b98ec854-faba-4221-d82d-e2d86c4338d8"
      },
      "execution_count": 6,
      "outputs": [
        {
          "output_type": "stream",
          "name": "stdout",
          "text": [
            "     ID Global_timestamp  Timestamp Event type          Event  \\\n",
            "0   100        0:0:0:000  0:0:0:000      event  session_start   \n",
            "1   100        0:0:9:583  0:0:0:000      event          start   \n",
            "2   100        0:0:9:583  0:0:0:000      event    init_object   \n",
            "3   100        0:0:9:583  0:0:0:000      event    init_object   \n",
            "4   100        0:0:9:583  0:0:0:000      event    init_object   \n",
            "5   100        0:0:9:583  0:0:0:000      event    init_object   \n",
            "6   100        0:0:9:583  0:0:0:000      event    init_object   \n",
            "7   100        0:0:9:583  0:0:0:000      event    init_object   \n",
            "8   100        0:0:9:583  0:0:0:000      event    init_object   \n",
            "9   100        0:0:9:583  0:0:0:000      event    init_object   \n",
            "10  100        0:0:9:583  0:0:0:000      event    init_object   \n",
            "11  100        0:0:9:583  0:0:0:000      event    init_object   \n",
            "12  100        0:0:9:583  0:0:0:000      event    init_object   \n",
            "13  100        0:0:9:583  0:0:0:000      event    init_object   \n",
            "14  100        0:0:9:583  0:0:0:000      event    init_object   \n",
            "15  100        0:0:9:583  0:0:0:000      event    init_object   \n",
            "16  100        0:0:9:583  0:0:0:000      event    init_object   \n",
            "17  100        0:0:9:583  0:0:0:000      event    init_object   \n",
            "18  100        0:0:9:583  0:0:0:000      event    init_object   \n",
            "19  100        0:0:9:583  0:0:0:000      event    init_object   \n",
            "\n",
            "                 Level              Details   filename     epoch_time  \\\n",
            "0                  NaN  26/01/2022 18:02:52  100_0.txt  1643220172000   \n",
            "1               0level                  NaN  100_0.txt  1643220181583   \n",
            "2   0level:baba is you       text_baba:12:7  100_0.txt  1643220181583   \n",
            "3   0level:baba is you            wall:12:9  100_0.txt  1643220181583   \n",
            "4   0level:baba is you           tile:12:10  100_0.txt  1643220181583   \n",
            "5   0level:baba is you           tile:12:11  100_0.txt  1643220181583   \n",
            "6   0level:baba is you           tile:12:12  100_0.txt  1643220181583   \n",
            "7   0level:baba is you           wall:12:13  100_0.txt  1643220181583   \n",
            "8   0level:baba is you      text_wall:12:15  100_0.txt  1643220181583   \n",
            "9   0level:baba is you         text_is:13:7  100_0.txt  1643220181583   \n",
            "10  0level:baba is you            wall:13:9  100_0.txt  1643220181583   \n",
            "11  0level:baba is you           tile:13:10  100_0.txt  1643220181583   \n",
            "12  0level:baba is you           baba:13:11  100_0.txt  1643220181583   \n",
            "13  0level:baba is you           tile:13:12  100_0.txt  1643220181583   \n",
            "14  0level:baba is you           wall:13:13  100_0.txt  1643220181583   \n",
            "15  0level:baba is you        text_is:13:15  100_0.txt  1643220181583   \n",
            "16  0level:baba is you        text_you:14:7  100_0.txt  1643220181583   \n",
            "17  0level:baba is you            wall:14:9  100_0.txt  1643220181583   \n",
            "18  0level:baba is you           tile:14:10  100_0.txt  1643220181583   \n",
            "19  0level:baba is you           tile:14:11  100_0.txt  1643220181583   \n",
            "\n",
            "    object_orientation x_coordinate y_coordinate    objects  \n",
            "0                  NaN         None         None       None  \n",
            "1                  NaN          NaN          NaN        NaN  \n",
            "2                  NaN           12            7  text_baba  \n",
            "3                  NaN           12            9       wall  \n",
            "4                  NaN           12           10       tile  \n",
            "5                  NaN           12           11       tile  \n",
            "6                  NaN           12           12       tile  \n",
            "7                  NaN           12           13       wall  \n",
            "8                  NaN           12           15  text_wall  \n",
            "9                  NaN           13            7    text_is  \n",
            "10                 NaN           13            9       wall  \n",
            "11                 NaN           13           10       tile  \n",
            "12                 NaN           13           11       baba  \n",
            "13                 NaN           13           12       tile  \n",
            "14                 NaN           13           13       wall  \n",
            "15                 NaN           13           15    text_is  \n",
            "16                 NaN           14            7   text_you  \n",
            "17                 NaN           14            9       wall  \n",
            "18                 NaN           14           10       tile  \n",
            "19                 NaN           14           11       tile  \n"
          ]
        }
      ]
    },
    {
      "cell_type": "markdown",
      "source": [
        "Below is to drop all the rows with Event value ('session_start', 'start', 'init_object')"
      ],
      "metadata": {
        "id": "a3K3DA8rE_mv"
      }
    },
    {
      "cell_type": "code",
      "source": [
        "# Filter dataframe by dropping all the rows with too few information on the events\n",
        "events_to_drop = ['session_start', 'start', 'init_object']\n",
        "# df1 is the first filtered data\n",
        "df1 = df[~df['Event'].isin(events_to_drop)]\n",
        "print(df1.head(10))\n",
        "df1 = df1.sort_values('ID')"
      ],
      "metadata": {
        "colab": {
          "base_uri": "https://localhost:8080/"
        },
        "id": "XFfIwIphkD9X",
        "outputId": "d45a3b0f-aa0b-4811-f05b-37715d0cf12a"
      },
      "execution_count": 7,
      "outputs": [
        {
          "output_type": "stream",
          "name": "stdout",
          "text": [
            "     ID Global_timestamp   Timestamp Event type     Event               Level  \\\n",
            "69  100        0:0:9:583   0:0:0:000      event  rule_add  0level:baba is you   \n",
            "70  100        0:0:9:583   0:0:0:000      event  rule_add  0level:baba is you   \n",
            "71  100        0:0:9:583   0:0:0:000      event  rule_add  0level:baba is you   \n",
            "72  100        0:0:9:583   0:0:0:000      event  rule_add  0level:baba is you   \n",
            "73  100       0:0:55:300  0:0:45:716     change    update  0level:baba is you   \n",
            "74  100       0:0:55:300  0:0:45:716      input     right  0level:baba is you   \n",
            "75  100       0:0:55:466  0:0:45:883     change    update  0level:baba is you   \n",
            "76  100       0:0:55:466  0:0:45:883      input     right  0level:baba is you   \n",
            "77  100       0:0:55:633  0:0:46:050     change    update  0level:baba is you   \n",
            "78  100       0:0:55:633  0:0:46:050      input     right  0level:baba is you   \n",
            "\n",
            "                Details   filename     epoch_time  object_orientation  \\\n",
            "69    12:7:baba is you   100_0.txt  1643220181583                 NaN   \n",
            "70  12:15:wall is stop   100_0.txt  1643220181583                 NaN   \n",
            "71    20:7:flag is win   100_0.txt  1643220181583                 NaN   \n",
            "72  20:15:rock is push   100_0.txt  1643220181583                 NaN   \n",
            "73         baba:14:11:0  100_0.txt  1643220227300                 0.0   \n",
            "74                  NaN  100_0.txt  1643220227300                 NaN   \n",
            "75         baba:15:11:0  100_0.txt  1643220227466                 0.0   \n",
            "76                  NaN  100_0.txt  1643220227466                 NaN   \n",
            "77         baba:16:11:0  100_0.txt  1643220227633                 0.0   \n",
            "78                  NaN  100_0.txt  1643220227633                 NaN   \n",
            "\n",
            "   x_coordinate y_coordinate        objects  \n",
            "69           12            7   baba is you   \n",
            "70           12           15  wall is stop   \n",
            "71           20            7   flag is win   \n",
            "72           20           15  rock is push   \n",
            "73           14           11           baba  \n",
            "74          NaN          NaN            NaN  \n",
            "75           15           11           baba  \n",
            "76          NaN          NaN            NaN  \n",
            "77           16           11           baba  \n",
            "78          NaN          NaN            NaN  \n"
          ]
        }
      ]
    },
    {
      "cell_type": "code",
      "source": [
        "# df2 is to take only the first n rows of df1 to make a demo so that the computation for testing can be quicker\n",
        "df2 = df1.head(200000)\n",
        "# print(df2)\n"
      ],
      "metadata": {
        "id": "-aRjicAvE9ap"
      },
      "execution_count": 122,
      "outputs": []
    },
    {
      "cell_type": "code",
      "source": [
        "# task_id is a new column that indicate the uniqueness of each ID with each level\n",
        "# Meaning, either the change of ID or level will cause a change in task_id\n",
        "track_id = 1\n",
        "track_task_id = 1\n",
        "level_list = list()\n",
        "task_id_list = list()\n",
        "max_task_id = 0\n",
        "for index, row in df2.iterrows():\n",
        "  if row['Level'] not in level_list and row['ID'] == track_id:\n",
        "    task_id_list.append(track_task_id + max_task_id)\n",
        "    track_task_id = track_task_id + 1\n",
        "    level_list.append(row['Level'])\n",
        "  elif row['Level'] in level_list and row['ID'] == track_id:\n",
        "    task_id_list.append(level_list.index(row['Level']) + 1 + max_task_id)\n",
        "  if row['ID'] != track_id:\n",
        "    level_list = list()\n",
        "    track_id = row['ID']\n",
        "    max_task_id = max(task_id_list)\n",
        "    task_id_list.append(track_task_id + max_task_id)\n",
        "    track_task_id = track_task_id + 1\n",
        "    level_list.append(row['Level'])"
      ],
      "metadata": {
        "id": "exCXg0YFKjxr"
      },
      "execution_count": 123,
      "outputs": []
    },
    {
      "cell_type": "code",
      "source": [
        "# df3 is the dataframe with the new column \"task_id\"\n",
        "df3 = df2.copy()\n",
        "df3['task_id'] = task_id_list\n",
        "# print(df3.tail(50)[['ID', 'Level', 'task_id']])"
      ],
      "metadata": {
        "id": "9HrG6bFj8G78"
      },
      "execution_count": 124,
      "outputs": []
    },
    {
      "cell_type": "code",
      "source": [
        "df3.head(10)"
      ],
      "metadata": {
        "id": "zEbuGC0IMBCi",
        "colab": {
          "base_uri": "https://localhost:8080/",
          "height": 618
        },
        "outputId": "9b5bab52-0f7c-45fd-aac7-3e437ca3b45d"
      },
      "execution_count": 125,
      "outputs": [
        {
          "output_type": "execute_result",
          "data": {
            "text/plain": [
              "         ID Global_timestamp   Timestamp Event type   Event  \\\n",
              "5791297   1       0:15:8:533  0:4:11:983     change  update   \n",
              "5781870   1      0:14:59:900  0:2:15:133     change  update   \n",
              "5781869   1      0:14:59:900  0:2:15:133     change  update   \n",
              "5781868   1      0:14:59:900  0:2:15:133     change  update   \n",
              "5781867   1      0:14:59:433  0:2:14:666      input    left   \n",
              "5781866   1      0:14:59:433  0:2:14:666     change  update   \n",
              "5781865   1      0:14:59:433  0:2:14:666     change  update   \n",
              "5781864   1      0:14:59:083  0:2:14:316      input    down   \n",
              "5781863   1      0:14:59:083  0:2:14:316     change  update   \n",
              "5781862   1      0:14:58:550  0:2:13:783      input   right   \n",
              "\n",
              "                       Level       Details filename     epoch_time  \\\n",
              "5791297    6level:grass yard   flag:17:3:0  1_2.txt  1636286131533   \n",
              "5781870  3level:out of reach   baba:9:12:3  1_1.txt  1636283930900   \n",
              "5781869  3level:out of reach   rock:9:13:3  1_1.txt  1636283930900   \n",
              "5781868  3level:out of reach   baba:9:11:3  1_1.txt  1636283930900   \n",
              "5781867  3level:out of reach           NaN  1_1.txt  1636283930433   \n",
              "5781866  3level:out of reach   baba:9:11:2  1_1.txt  1636283930433   \n",
              "5781865  3level:out of reach  baba:10:11:2  1_1.txt  1636283930433   \n",
              "5781864  3level:out of reach           NaN  1_1.txt  1636283930083   \n",
              "5781863  3level:out of reach  baba:10:11:3  1_1.txt  1636283930083   \n",
              "5781862  3level:out of reach           NaN  1_1.txt  1636283929550   \n",
              "\n",
              "         object_orientation x_coordinate y_coordinate objects  task_id  \n",
              "5791297                 0.0           17            3    flag        1  \n",
              "5781870                 3.0            9           12    baba        2  \n",
              "5781869                 3.0            9           13    rock        2  \n",
              "5781868                 3.0            9           11    baba        2  \n",
              "5781867                 NaN          NaN          NaN     NaN        2  \n",
              "5781866                 2.0            9           11    baba        2  \n",
              "5781865                 2.0           10           11    baba        2  \n",
              "5781864                 NaN          NaN          NaN     NaN        2  \n",
              "5781863                 3.0           10           11    baba        2  \n",
              "5781862                 NaN          NaN          NaN     NaN        2  "
            ],
            "text/html": [
              "\n",
              "  <div id=\"df-e405288d-94e7-425e-8d8b-eb7c6cdccb4a\">\n",
              "    <div class=\"colab-df-container\">\n",
              "      <div>\n",
              "<style scoped>\n",
              "    .dataframe tbody tr th:only-of-type {\n",
              "        vertical-align: middle;\n",
              "    }\n",
              "\n",
              "    .dataframe tbody tr th {\n",
              "        vertical-align: top;\n",
              "    }\n",
              "\n",
              "    .dataframe thead th {\n",
              "        text-align: right;\n",
              "    }\n",
              "</style>\n",
              "<table border=\"1\" class=\"dataframe\">\n",
              "  <thead>\n",
              "    <tr style=\"text-align: right;\">\n",
              "      <th></th>\n",
              "      <th>ID</th>\n",
              "      <th>Global_timestamp</th>\n",
              "      <th>Timestamp</th>\n",
              "      <th>Event type</th>\n",
              "      <th>Event</th>\n",
              "      <th>Level</th>\n",
              "      <th>Details</th>\n",
              "      <th>filename</th>\n",
              "      <th>epoch_time</th>\n",
              "      <th>object_orientation</th>\n",
              "      <th>x_coordinate</th>\n",
              "      <th>y_coordinate</th>\n",
              "      <th>objects</th>\n",
              "      <th>task_id</th>\n",
              "    </tr>\n",
              "  </thead>\n",
              "  <tbody>\n",
              "    <tr>\n",
              "      <th>5791297</th>\n",
              "      <td>1</td>\n",
              "      <td>0:15:8:533</td>\n",
              "      <td>0:4:11:983</td>\n",
              "      <td>change</td>\n",
              "      <td>update</td>\n",
              "      <td>6level:grass yard</td>\n",
              "      <td>flag:17:3:0</td>\n",
              "      <td>1_2.txt</td>\n",
              "      <td>1636286131533</td>\n",
              "      <td>0.0</td>\n",
              "      <td>17</td>\n",
              "      <td>3</td>\n",
              "      <td>flag</td>\n",
              "      <td>1</td>\n",
              "    </tr>\n",
              "    <tr>\n",
              "      <th>5781870</th>\n",
              "      <td>1</td>\n",
              "      <td>0:14:59:900</td>\n",
              "      <td>0:2:15:133</td>\n",
              "      <td>change</td>\n",
              "      <td>update</td>\n",
              "      <td>3level:out of reach</td>\n",
              "      <td>baba:9:12:3</td>\n",
              "      <td>1_1.txt</td>\n",
              "      <td>1636283930900</td>\n",
              "      <td>3.0</td>\n",
              "      <td>9</td>\n",
              "      <td>12</td>\n",
              "      <td>baba</td>\n",
              "      <td>2</td>\n",
              "    </tr>\n",
              "    <tr>\n",
              "      <th>5781869</th>\n",
              "      <td>1</td>\n",
              "      <td>0:14:59:900</td>\n",
              "      <td>0:2:15:133</td>\n",
              "      <td>change</td>\n",
              "      <td>update</td>\n",
              "      <td>3level:out of reach</td>\n",
              "      <td>rock:9:13:3</td>\n",
              "      <td>1_1.txt</td>\n",
              "      <td>1636283930900</td>\n",
              "      <td>3.0</td>\n",
              "      <td>9</td>\n",
              "      <td>13</td>\n",
              "      <td>rock</td>\n",
              "      <td>2</td>\n",
              "    </tr>\n",
              "    <tr>\n",
              "      <th>5781868</th>\n",
              "      <td>1</td>\n",
              "      <td>0:14:59:900</td>\n",
              "      <td>0:2:15:133</td>\n",
              "      <td>change</td>\n",
              "      <td>update</td>\n",
              "      <td>3level:out of reach</td>\n",
              "      <td>baba:9:11:3</td>\n",
              "      <td>1_1.txt</td>\n",
              "      <td>1636283930900</td>\n",
              "      <td>3.0</td>\n",
              "      <td>9</td>\n",
              "      <td>11</td>\n",
              "      <td>baba</td>\n",
              "      <td>2</td>\n",
              "    </tr>\n",
              "    <tr>\n",
              "      <th>5781867</th>\n",
              "      <td>1</td>\n",
              "      <td>0:14:59:433</td>\n",
              "      <td>0:2:14:666</td>\n",
              "      <td>input</td>\n",
              "      <td>left</td>\n",
              "      <td>3level:out of reach</td>\n",
              "      <td>NaN</td>\n",
              "      <td>1_1.txt</td>\n",
              "      <td>1636283930433</td>\n",
              "      <td>NaN</td>\n",
              "      <td>NaN</td>\n",
              "      <td>NaN</td>\n",
              "      <td>NaN</td>\n",
              "      <td>2</td>\n",
              "    </tr>\n",
              "    <tr>\n",
              "      <th>5781866</th>\n",
              "      <td>1</td>\n",
              "      <td>0:14:59:433</td>\n",
              "      <td>0:2:14:666</td>\n",
              "      <td>change</td>\n",
              "      <td>update</td>\n",
              "      <td>3level:out of reach</td>\n",
              "      <td>baba:9:11:2</td>\n",
              "      <td>1_1.txt</td>\n",
              "      <td>1636283930433</td>\n",
              "      <td>2.0</td>\n",
              "      <td>9</td>\n",
              "      <td>11</td>\n",
              "      <td>baba</td>\n",
              "      <td>2</td>\n",
              "    </tr>\n",
              "    <tr>\n",
              "      <th>5781865</th>\n",
              "      <td>1</td>\n",
              "      <td>0:14:59:433</td>\n",
              "      <td>0:2:14:666</td>\n",
              "      <td>change</td>\n",
              "      <td>update</td>\n",
              "      <td>3level:out of reach</td>\n",
              "      <td>baba:10:11:2</td>\n",
              "      <td>1_1.txt</td>\n",
              "      <td>1636283930433</td>\n",
              "      <td>2.0</td>\n",
              "      <td>10</td>\n",
              "      <td>11</td>\n",
              "      <td>baba</td>\n",
              "      <td>2</td>\n",
              "    </tr>\n",
              "    <tr>\n",
              "      <th>5781864</th>\n",
              "      <td>1</td>\n",
              "      <td>0:14:59:083</td>\n",
              "      <td>0:2:14:316</td>\n",
              "      <td>input</td>\n",
              "      <td>down</td>\n",
              "      <td>3level:out of reach</td>\n",
              "      <td>NaN</td>\n",
              "      <td>1_1.txt</td>\n",
              "      <td>1636283930083</td>\n",
              "      <td>NaN</td>\n",
              "      <td>NaN</td>\n",
              "      <td>NaN</td>\n",
              "      <td>NaN</td>\n",
              "      <td>2</td>\n",
              "    </tr>\n",
              "    <tr>\n",
              "      <th>5781863</th>\n",
              "      <td>1</td>\n",
              "      <td>0:14:59:083</td>\n",
              "      <td>0:2:14:316</td>\n",
              "      <td>change</td>\n",
              "      <td>update</td>\n",
              "      <td>3level:out of reach</td>\n",
              "      <td>baba:10:11:3</td>\n",
              "      <td>1_1.txt</td>\n",
              "      <td>1636283930083</td>\n",
              "      <td>3.0</td>\n",
              "      <td>10</td>\n",
              "      <td>11</td>\n",
              "      <td>baba</td>\n",
              "      <td>2</td>\n",
              "    </tr>\n",
              "    <tr>\n",
              "      <th>5781862</th>\n",
              "      <td>1</td>\n",
              "      <td>0:14:58:550</td>\n",
              "      <td>0:2:13:783</td>\n",
              "      <td>input</td>\n",
              "      <td>right</td>\n",
              "      <td>3level:out of reach</td>\n",
              "      <td>NaN</td>\n",
              "      <td>1_1.txt</td>\n",
              "      <td>1636283929550</td>\n",
              "      <td>NaN</td>\n",
              "      <td>NaN</td>\n",
              "      <td>NaN</td>\n",
              "      <td>NaN</td>\n",
              "      <td>2</td>\n",
              "    </tr>\n",
              "  </tbody>\n",
              "</table>\n",
              "</div>\n",
              "      <button class=\"colab-df-convert\" onclick=\"convertToInteractive('df-e405288d-94e7-425e-8d8b-eb7c6cdccb4a')\"\n",
              "              title=\"Convert this dataframe to an interactive table.\"\n",
              "              style=\"display:none;\">\n",
              "        \n",
              "  <svg xmlns=\"http://www.w3.org/2000/svg\" height=\"24px\"viewBox=\"0 0 24 24\"\n",
              "       width=\"24px\">\n",
              "    <path d=\"M0 0h24v24H0V0z\" fill=\"none\"/>\n",
              "    <path d=\"M18.56 5.44l.94 2.06.94-2.06 2.06-.94-2.06-.94-.94-2.06-.94 2.06-2.06.94zm-11 1L8.5 8.5l.94-2.06 2.06-.94-2.06-.94L8.5 2.5l-.94 2.06-2.06.94zm10 10l.94 2.06.94-2.06 2.06-.94-2.06-.94-.94-2.06-.94 2.06-2.06.94z\"/><path d=\"M17.41 7.96l-1.37-1.37c-.4-.4-.92-.59-1.43-.59-.52 0-1.04.2-1.43.59L10.3 9.45l-7.72 7.72c-.78.78-.78 2.05 0 2.83L4 21.41c.39.39.9.59 1.41.59.51 0 1.02-.2 1.41-.59l7.78-7.78 2.81-2.81c.8-.78.8-2.07 0-2.86zM5.41 20L4 18.59l7.72-7.72 1.47 1.35L5.41 20z\"/>\n",
              "  </svg>\n",
              "      </button>\n",
              "      \n",
              "  <style>\n",
              "    .colab-df-container {\n",
              "      display:flex;\n",
              "      flex-wrap:wrap;\n",
              "      gap: 12px;\n",
              "    }\n",
              "\n",
              "    .colab-df-convert {\n",
              "      background-color: #E8F0FE;\n",
              "      border: none;\n",
              "      border-radius: 50%;\n",
              "      cursor: pointer;\n",
              "      display: none;\n",
              "      fill: #1967D2;\n",
              "      height: 32px;\n",
              "      padding: 0 0 0 0;\n",
              "      width: 32px;\n",
              "    }\n",
              "\n",
              "    .colab-df-convert:hover {\n",
              "      background-color: #E2EBFA;\n",
              "      box-shadow: 0px 1px 2px rgba(60, 64, 67, 0.3), 0px 1px 3px 1px rgba(60, 64, 67, 0.15);\n",
              "      fill: #174EA6;\n",
              "    }\n",
              "\n",
              "    [theme=dark] .colab-df-convert {\n",
              "      background-color: #3B4455;\n",
              "      fill: #D2E3FC;\n",
              "    }\n",
              "\n",
              "    [theme=dark] .colab-df-convert:hover {\n",
              "      background-color: #434B5C;\n",
              "      box-shadow: 0px 1px 3px 1px rgba(0, 0, 0, 0.15);\n",
              "      filter: drop-shadow(0px 1px 2px rgba(0, 0, 0, 0.3));\n",
              "      fill: #FFFFFF;\n",
              "    }\n",
              "  </style>\n",
              "\n",
              "      <script>\n",
              "        const buttonEl =\n",
              "          document.querySelector('#df-e405288d-94e7-425e-8d8b-eb7c6cdccb4a button.colab-df-convert');\n",
              "        buttonEl.style.display =\n",
              "          google.colab.kernel.accessAllowed ? 'block' : 'none';\n",
              "\n",
              "        async function convertToInteractive(key) {\n",
              "          const element = document.querySelector('#df-e405288d-94e7-425e-8d8b-eb7c6cdccb4a');\n",
              "          const dataTable =\n",
              "            await google.colab.kernel.invokeFunction('convertToInteractive',\n",
              "                                                     [key], {});\n",
              "          if (!dataTable) return;\n",
              "\n",
              "          const docLinkHtml = 'Like what you see? Visit the ' +\n",
              "            '<a target=\"_blank\" href=https://colab.research.google.com/notebooks/data_table.ipynb>data table notebook</a>'\n",
              "            + ' to learn more about interactive tables.';\n",
              "          element.innerHTML = '';\n",
              "          dataTable['output_type'] = 'display_data';\n",
              "          await google.colab.output.renderOutput(dataTable, element);\n",
              "          const docLink = document.createElement('div');\n",
              "          docLink.innerHTML = docLinkHtml;\n",
              "          element.appendChild(docLink);\n",
              "        }\n",
              "      </script>\n",
              "    </div>\n",
              "  </div>\n",
              "  "
            ]
          },
          "metadata": {},
          "execution_count": 125
        }
      ]
    },
    {
      "cell_type": "code",
      "source": [
        "from collections import Counter\n",
        "\n",
        "# filtered_df is the dataframe without all rows that has task_id counts that is less that n (currently n=2)\n",
        "# Meaning we droped the rows that has insufficient data that can make a conclusion about that ID at one level\n",
        "\n",
        "filter_list = list()\n",
        "count_dict = Counter(task_id_list)\n",
        "for num, count in count_dict.items():\n",
        "    # print(f\"Number {num} appears {count} times\")\n",
        "    if count < 40:\n",
        "      filter_list.append(num)\n",
        "filtered_df = df3[~df3['task_id'].isin(filter_list)]\n",
        "\n"
      ],
      "metadata": {
        "id": "GluhxwwpC3FC"
      },
      "execution_count": 137,
      "outputs": []
    },
    {
      "cell_type": "code",
      "source": [
        "# first sort by task_id to make it a more organized visulization\n",
        "# Then create a column \"win_status\" that is win if even = win and nan otherwise\n",
        "\n",
        "filtered_df = filtered_df.sort_values('task_id')\n",
        "filtered_df['win_status'] = np.where(filtered_df['Event'] == \"win\", \"win\", np.nan)\n"
      ],
      "metadata": {
        "id": "2Bdt0VCwG1ke"
      },
      "execution_count": 138,
      "outputs": []
    },
    {
      "cell_type": "code",
      "source": [
        "# fills missing values in the 'win_status' column with the nearest non-null value within each group of 'task_id'.\n",
        "\n",
        "filtered_df['win_status'] = filtered_df.groupby('task_id')['win_status'].transform(lambda x: x.ffill().bfill())"
      ],
      "metadata": {
        "id": "wJlBz2mY9cqa"
      },
      "execution_count": 139,
      "outputs": []
    },
    {
      "cell_type": "code",
      "source": [
        "# For each group of task_id, if there are more than one win, remove all rows after the first win\n",
        "grouped = filtered_df.groupby('task_id')\n",
        "time_format = \"%H:%M:%S:%f\"\n",
        "group_list = list()\n",
        "\n",
        "# temp_finished_df is the new dataframe that store the original dataframe with above modification\n",
        "temp_finished_df = pd.DataFrame()\n",
        "for _, group in grouped:\n",
        "  # print(\"before: \", group.shape[0])\n",
        "  group_list.append(group.shape[0])\n",
        "  win_rows = group[group['Event'] == \"win\"]\n",
        "  if win_rows.shape[0] > 1:\n",
        "    min_win = win_rows.iloc[0]\n",
        "    for index, row in win_rows.iterrows():\n",
        "      time1 = pd.to_datetime(row['Timestamp'], format=time_format)\n",
        "      time2 = pd.to_datetime(min_win['Timestamp'], format=time_format)\n",
        "      if time1 < time2:\n",
        "        min_win = row\n",
        "    time_group = pd.to_datetime(group['Timestamp'], format=time_format)\n",
        "    time_min_win = pd.to_datetime(min_win['Timestamp'], format=time_format)\n",
        "    group = group[time_group <= time_min_win]\n",
        "    if group[group['win_status'] == \"win\"].shape[0] > 1:\n",
        "      group = group.drop_duplicates(subset='Timestamp', keep='first')\n",
        "  temp_finished_df = pd.concat([temp_finished_df ,group])\n",
        "  # print(\"after: \" , group.shape[0])\n"
      ],
      "metadata": {
        "colab": {
          "base_uri": "https://localhost:8080/"
        },
        "id": "hmo47wu0hPcD",
        "outputId": "4cbe6a29-8c6f-4dcd-e61a-8e1b5c56e046"
      },
      "execution_count": 160,
      "outputs": [
        {
          "output_type": "stream",
          "name": "stdout",
          "text": [
            "199659\n",
            "180293\n"
          ]
        }
      ]
    },
    {
      "cell_type": "code",
      "source": [],
      "metadata": {
        "id": "bMu3UoqzzRcq"
      },
      "execution_count": null,
      "outputs": []
    }
  ]
}