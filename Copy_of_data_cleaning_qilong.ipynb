{
  "nbformat": 4,
  "nbformat_minor": 0,
  "metadata": {
    "colab": {
      "provenance": [],
      "mount_file_id": "1xbaWPDCK_nQFqEYNFoo2WBGcTrKauTeF",
      "authorship_tag": "ABX9TyP+0F/r50OnMOfGboTdcNDs",
      "include_colab_link": true
    },
    "kernelspec": {
      "name": "python3",
      "display_name": "Python 3"
    },
    "language_info": {
      "name": "python"
    }
  },
  "cells": [
    {
      "cell_type": "markdown",
      "metadata": {
        "id": "view-in-github",
        "colab_type": "text"
      },
      "source": [
        "<a href=\"https://colab.research.google.com/github/TonyDql/summer2023_educ_proj/blob/main/Copy_of_data_cleaning_qilong.ipynb\" target=\"_parent\"><img src=\"https://colab.research.google.com/assets/colab-badge.svg\" alt=\"Open In Colab\"/></a>"
      ]
    },
    {
      "cell_type": "code",
      "source": [
        "import pandas as pd"
      ],
      "metadata": {
        "id": "J9cjscjTbKe7"
      },
      "execution_count": null,
      "outputs": []
    },
    {
      "cell_type": "code",
      "source": [
        "from google.colab import drive\n",
        "drive.mount('/content/drive')"
      ],
      "metadata": {
        "colab": {
          "base_uri": "https://localhost:8080/"
        },
        "id": "LLV7lCo2bM5U",
        "outputId": "139a80ff-d5ce-45f8-9d85-3024aafcc8c1"
      },
      "execution_count": null,
      "outputs": [
        {
          "output_type": "stream",
          "name": "stdout",
          "text": [
            "Drive already mounted at /content/drive; to attempt to forcibly remount, call drive.mount(\"/content/drive\", force_remount=True).\n"
          ]
        }
      ]
    },
    {
      "cell_type": "code",
      "execution_count": null,
      "metadata": {
        "id": "1xfL2o7kbIUH"
      },
      "outputs": [],
      "source": [
        "df = pd.read_csv('/content/drive/MyDrive/rawdata_longform_full_08-19-22.csv')\n"
      ]
    },
    {
      "cell_type": "code",
      "source": [
        "print(df.columns)"
      ],
      "metadata": {
        "colab": {
          "base_uri": "https://localhost:8080/"
        },
        "id": "NSDfDSlTc1aw",
        "outputId": "45281d85-2b54-4767-d081-fb9d78713ad9"
      },
      "execution_count": null,
      "outputs": [
        {
          "output_type": "stream",
          "name": "stdout",
          "text": [
            "Index(['ID', 'Global_timestamp', 'Timestamp', 'Event type', 'Event', 'Level',\n",
            "       'Details', 'filename', 'epoch_time', 'object_orientation',\n",
            "       'x_coordinate', 'y_coordinate', 'objects'],\n",
            "      dtype='object')\n"
          ]
        }
      ]
    },
    {
      "cell_type": "code",
      "source": [
        "print(df.head(20))"
      ],
      "metadata": {
        "colab": {
          "base_uri": "https://localhost:8080/"
        },
        "id": "pSXENMbIdbvM",
        "outputId": "1c7945d4-b5bb-41ec-b6a7-fa5367340f05"
      },
      "execution_count": null,
      "outputs": [
        {
          "output_type": "stream",
          "name": "stdout",
          "text": [
            "     ID Global_timestamp  Timestamp Event type          Event  \\\n",
            "0   100        0:0:0:000  0:0:0:000      event  session_start   \n",
            "1   100        0:0:9:583  0:0:0:000      event          start   \n",
            "2   100        0:0:9:583  0:0:0:000      event    init_object   \n",
            "3   100        0:0:9:583  0:0:0:000      event    init_object   \n",
            "4   100        0:0:9:583  0:0:0:000      event    init_object   \n",
            "5   100        0:0:9:583  0:0:0:000      event    init_object   \n",
            "6   100        0:0:9:583  0:0:0:000      event    init_object   \n",
            "7   100        0:0:9:583  0:0:0:000      event    init_object   \n",
            "8   100        0:0:9:583  0:0:0:000      event    init_object   \n",
            "9   100        0:0:9:583  0:0:0:000      event    init_object   \n",
            "10  100        0:0:9:583  0:0:0:000      event    init_object   \n",
            "11  100        0:0:9:583  0:0:0:000      event    init_object   \n",
            "12  100        0:0:9:583  0:0:0:000      event    init_object   \n",
            "13  100        0:0:9:583  0:0:0:000      event    init_object   \n",
            "14  100        0:0:9:583  0:0:0:000      event    init_object   \n",
            "15  100        0:0:9:583  0:0:0:000      event    init_object   \n",
            "16  100        0:0:9:583  0:0:0:000      event    init_object   \n",
            "17  100        0:0:9:583  0:0:0:000      event    init_object   \n",
            "18  100        0:0:9:583  0:0:0:000      event    init_object   \n",
            "19  100        0:0:9:583  0:0:0:000      event    init_object   \n",
            "\n",
            "                 Level              Details   filename     epoch_time  \\\n",
            "0                  NaN  26/01/2022 18:02:52  100_0.txt  1643220172000   \n",
            "1               0level                  NaN  100_0.txt  1643220181583   \n",
            "2   0level:baba is you       text_baba:12:7  100_0.txt  1643220181583   \n",
            "3   0level:baba is you            wall:12:9  100_0.txt  1643220181583   \n",
            "4   0level:baba is you           tile:12:10  100_0.txt  1643220181583   \n",
            "5   0level:baba is you           tile:12:11  100_0.txt  1643220181583   \n",
            "6   0level:baba is you           tile:12:12  100_0.txt  1643220181583   \n",
            "7   0level:baba is you           wall:12:13  100_0.txt  1643220181583   \n",
            "8   0level:baba is you      text_wall:12:15  100_0.txt  1643220181583   \n",
            "9   0level:baba is you         text_is:13:7  100_0.txt  1643220181583   \n",
            "10  0level:baba is you            wall:13:9  100_0.txt  1643220181583   \n",
            "11  0level:baba is you           tile:13:10  100_0.txt  1643220181583   \n",
            "12  0level:baba is you           baba:13:11  100_0.txt  1643220181583   \n",
            "13  0level:baba is you           tile:13:12  100_0.txt  1643220181583   \n",
            "14  0level:baba is you           wall:13:13  100_0.txt  1643220181583   \n",
            "15  0level:baba is you        text_is:13:15  100_0.txt  1643220181583   \n",
            "16  0level:baba is you        text_you:14:7  100_0.txt  1643220181583   \n",
            "17  0level:baba is you            wall:14:9  100_0.txt  1643220181583   \n",
            "18  0level:baba is you           tile:14:10  100_0.txt  1643220181583   \n",
            "19  0level:baba is you           tile:14:11  100_0.txt  1643220181583   \n",
            "\n",
            "    object_orientation x_coordinate y_coordinate    objects  \n",
            "0                  NaN         None         None       None  \n",
            "1                  NaN          NaN          NaN        NaN  \n",
            "2                  NaN           12            7  text_baba  \n",
            "3                  NaN           12            9       wall  \n",
            "4                  NaN           12           10       tile  \n",
            "5                  NaN           12           11       tile  \n",
            "6                  NaN           12           12       tile  \n",
            "7                  NaN           12           13       wall  \n",
            "8                  NaN           12           15  text_wall  \n",
            "9                  NaN           13            7    text_is  \n",
            "10                 NaN           13            9       wall  \n",
            "11                 NaN           13           10       tile  \n",
            "12                 NaN           13           11       baba  \n",
            "13                 NaN           13           12       tile  \n",
            "14                 NaN           13           13       wall  \n",
            "15                 NaN           13           15    text_is  \n",
            "16                 NaN           14            7   text_you  \n",
            "17                 NaN           14            9       wall  \n",
            "18                 NaN           14           10       tile  \n",
            "19                 NaN           14           11       tile  \n"
          ]
        }
      ]
    },
    {
      "cell_type": "markdown",
      "source": [
        "Below is to drop all the rows with Event value ('session_start', 'start', 'init_object')"
      ],
      "metadata": {
        "id": "a3K3DA8rE_mv"
      }
    },
    {
      "cell_type": "code",
      "source": [
        "events_to_drop = ['session_start', 'start', 'init_object']\n",
        "df1 = df[~df['Event'].isin(events_to_drop)]\n",
        "print(df1.head(10))"
      ],
      "metadata": {
        "colab": {
          "base_uri": "https://localhost:8080/"
        },
        "id": "XFfIwIphkD9X",
        "outputId": "d1e3e820-d2df-46ff-ffc2-9f5a07c895ca"
      },
      "execution_count": null,
      "outputs": [
        {
          "output_type": "stream",
          "name": "stdout",
          "text": [
            "     ID Global_timestamp   Timestamp Event type     Event               Level  \\\n",
            "69  100        0:0:9:583   0:0:0:000      event  rule_add  0level:baba is you   \n",
            "70  100        0:0:9:583   0:0:0:000      event  rule_add  0level:baba is you   \n",
            "71  100        0:0:9:583   0:0:0:000      event  rule_add  0level:baba is you   \n",
            "72  100        0:0:9:583   0:0:0:000      event  rule_add  0level:baba is you   \n",
            "73  100       0:0:55:300  0:0:45:716     change    update  0level:baba is you   \n",
            "74  100       0:0:55:300  0:0:45:716      input     right  0level:baba is you   \n",
            "75  100       0:0:55:466  0:0:45:883     change    update  0level:baba is you   \n",
            "76  100       0:0:55:466  0:0:45:883      input     right  0level:baba is you   \n",
            "77  100       0:0:55:633  0:0:46:050     change    update  0level:baba is you   \n",
            "78  100       0:0:55:633  0:0:46:050      input     right  0level:baba is you   \n",
            "\n",
            "                Details   filename     epoch_time  object_orientation  \\\n",
            "69    12:7:baba is you   100_0.txt  1643220181583                 NaN   \n",
            "70  12:15:wall is stop   100_0.txt  1643220181583                 NaN   \n",
            "71    20:7:flag is win   100_0.txt  1643220181583                 NaN   \n",
            "72  20:15:rock is push   100_0.txt  1643220181583                 NaN   \n",
            "73         baba:14:11:0  100_0.txt  1643220227300                 0.0   \n",
            "74                  NaN  100_0.txt  1643220227300                 NaN   \n",
            "75         baba:15:11:0  100_0.txt  1643220227466                 0.0   \n",
            "76                  NaN  100_0.txt  1643220227466                 NaN   \n",
            "77         baba:16:11:0  100_0.txt  1643220227633                 0.0   \n",
            "78                  NaN  100_0.txt  1643220227633                 NaN   \n",
            "\n",
            "   x_coordinate y_coordinate        objects  \n",
            "69           12            7   baba is you   \n",
            "70           12           15  wall is stop   \n",
            "71           20            7   flag is win   \n",
            "72           20           15  rock is push   \n",
            "73           14           11           baba  \n",
            "74          NaN          NaN            NaN  \n",
            "75           15           11           baba  \n",
            "76          NaN          NaN            NaN  \n",
            "77           16           11           baba  \n",
            "78          NaN          NaN            NaN  \n"
          ]
        }
      ]
    },
    {
      "cell_type": "code",
      "source": [
        "df1 = df1.sort_values('ID')\n",
        "df2 = df1.head(15000)\n",
        "print(df2)"
      ],
      "metadata": {
        "id": "-aRjicAvE9ap",
        "colab": {
          "base_uri": "https://localhost:8080/"
        },
        "outputId": "69b0019d-ebf1-48e1-aea0-90fac281bea5"
      },
      "execution_count": null,
      "outputs": [
        {
          "output_type": "stream",
          "name": "stdout",
          "text": [
            "          ID Global_timestamp   Timestamp Event type       Event  \\\n",
            "5791297    1       0:15:8:533  0:4:11:983     change      update   \n",
            "5781866    1      0:14:59:433  0:2:14:666     change      update   \n",
            "5781865    1      0:14:59:433  0:2:14:666     change      update   \n",
            "5781864    1      0:14:59:083  0:2:14:316      input        down   \n",
            "5781881    1       0:15:2:033  0:2:17:266      input       right   \n",
            "...       ..              ...         ...        ...         ...   \n",
            "10481590   2      0:21:37:666  0:0:37:450     change      update   \n",
            "10481323   2      0:20:59:250   0:0:3:100     change   mapcursor   \n",
            "10481318   2      0:20:56:150   0:0:0:000      event  new_object   \n",
            "10481325   2      0:20:59:250   0:0:3:100      input        left   \n",
            "10481498   2       0:21:0:216   0:0:0:000      event    rule_add   \n",
            "\n",
            "                               Level              Details filename  \\\n",
            "5791297            6level:grass yard          flag:17:3:0  1_2.txt   \n",
            "5781866          3level:out of reach          baba:9:11:2  1_1.txt   \n",
            "5781865          3level:out of reach         baba:10:11:2  1_1.txt   \n",
            "5781864          3level:out of reach                  NaN  1_1.txt   \n",
            "5781881          3level:out of reach                  NaN  1_1.txt   \n",
            "...                              ...                  ...      ...   \n",
            "10481590  17level:unreachable shores         keke:14:11:2  2_2.txt   \n",
            "10481323    206level:3. temple ruins              8:2:233  2_2.txt   \n",
            "10481318    206level:3. temple ruins           level:17:6  2_2.txt   \n",
            "10481325    206level:3. temple ruins                  NaN  2_2.txt   \n",
            "10481498  17level:unreachable shores  1:16:text is float   2_2.txt   \n",
            "\n",
            "             epoch_time  object_orientation x_coordinate y_coordinate  \\\n",
            "5791297   1636286131533                 0.0           17            3   \n",
            "5781866   1636283930433                 2.0            9           11   \n",
            "5781865   1636283930433                 2.0           10           11   \n",
            "5781864   1636283930083                 NaN          NaN          NaN   \n",
            "5781881   1636283933033                 NaN          NaN          NaN   \n",
            "...                 ...                 ...          ...          ...   \n",
            "10481590  1636295088666                 2.0           14           11   \n",
            "10481323  1636295050250                 NaN            2          233   \n",
            "10481318  1636295047150                 NaN           17            6   \n",
            "10481325  1636295050250                 NaN          NaN          NaN   \n",
            "10481498  1636295051216                 NaN            1           16   \n",
            "\n",
            "                 objects  \n",
            "5791297             flag  \n",
            "5781866             baba  \n",
            "5781865             baba  \n",
            "5781864              NaN  \n",
            "5781881              NaN  \n",
            "...                  ...  \n",
            "10481590            keke  \n",
            "10481323               8  \n",
            "10481318           level  \n",
            "10481325             NaN  \n",
            "10481498  text is float   \n",
            "\n",
            "[15000 rows x 13 columns]\n"
          ]
        }
      ]
    },
    {
      "cell_type": "code",
      "source": [
        "track_id = 1\n",
        "track_task_id = 1\n",
        "level_list = list()\n",
        "task_id_list = list()\n",
        "max_task_id = 0\n",
        "for index, row in df2.iterrows():\n",
        "  if row['Level'] not in level_list and row['ID'] == track_id:\n",
        "    task_id_list.append(track_task_id + max_task_id)\n",
        "    track_task_id = track_task_id + 1\n",
        "    level_list.append(row['Level'])\n",
        "  elif row['Level'] in level_list and row['ID'] == track_id:\n",
        "    task_id_list.append(level_list.index(row['Level']) + 1 + max_task_id)\n",
        "  if row['ID'] != track_id:\n",
        "    level_list = list()\n",
        "    track_id = row['ID']\n",
        "    max_task_id = max(task_id_list)\n",
        "    task_id_list.append(track_task_id + max_task_id)\n",
        "    track_task_id = track_task_id + 1\n",
        "    level_list.append(row['Level'])"
      ],
      "metadata": {
        "id": "exCXg0YFKjxr"
      },
      "execution_count": null,
      "outputs": []
    },
    {
      "cell_type": "code",
      "source": [
        "df3 = df2.copy()\n",
        "df3['task_id'] = task_id_list\n",
        "print(df3.tail(50)[['ID', 'Level', 'task_id']])"
      ],
      "metadata": {
        "colab": {
          "base_uri": "https://localhost:8080/"
        },
        "id": "9HrG6bFj8G78",
        "outputId": "cfee8e14-6078-4211-b628-932dfcb76ccc"
      },
      "execution_count": null,
      "outputs": [
        {
          "output_type": "stream",
          "name": "stdout",
          "text": [
            "          ID                       Level  task_id\n",
            "10481557   2  17level:unreachable shores       30\n",
            "10481561   2  17level:unreachable shores       30\n",
            "10481053   2   58level:a present for you       24\n",
            "10481567   2  17level:unreachable shores       30\n",
            "10480997   2   58level:a present for you       24\n",
            "10481579   2  17level:unreachable shores       30\n",
            "10481573   2  17level:unreachable shores       30\n",
            "10481005   2   58level:a present for you       24\n",
            "10481572   2  17level:unreachable shores       30\n",
            "10480973   2   58level:a present for you       24\n",
            "10481602   2  17level:unreachable shores       30\n",
            "10482314   2  17level:unreachable shores       30\n",
            "10482321   2  17level:unreachable shores       30\n",
            "10481606   2  17level:unreachable shores       30\n",
            "10481607   2  17level:unreachable shores       30\n",
            "10481608   2  17level:unreachable shores       30\n",
            "10481609   2  17level:unreachable shores       30\n",
            "10481610   2  17level:unreachable shores       30\n",
            "10481611   2  17level:unreachable shores       30\n",
            "10481600   2  17level:unreachable shores       30\n",
            "10481605   2  17level:unreachable shores       30\n",
            "10481596   2  17level:unreachable shores       30\n",
            "10481594   2  17level:unreachable shores       30\n",
            "10481580   2  17level:unreachable shores       30\n",
            "10481604   2  17level:unreachable shores       30\n",
            "10481581   2  17level:unreachable shores       30\n",
            "10481583   2  17level:unreachable shores       30\n",
            "10481584   2  17level:unreachable shores       30\n",
            "10481585   2  17level:unreachable shores       30\n",
            "10481595   2  17level:unreachable shores       30\n",
            "10481315   2    206level:3. temple ruins       26\n",
            "10481079   2   58level:a present for you       24\n",
            "10481578   2  17level:unreachable shores       30\n",
            "10481599   2  17level:unreachable shores       30\n",
            "10481598   2  17level:unreachable shores       30\n",
            "10481533   2  17level:unreachable shores       30\n",
            "10481506   2  17level:unreachable shores       30\n",
            "10481582   2  17level:unreachable shores       30\n",
            "10481597   2  17level:unreachable shores       30\n",
            "10481603   2  17level:unreachable shores       30\n",
            "10481586   2  17level:unreachable shores       30\n",
            "10481319   2    206level:3. temple ruins       26\n",
            "10481320   2    206level:3. temple ruins       26\n",
            "10481321   2    206level:3. temple ruins       26\n",
            "10481322   2    206level:3. temple ruins       26\n",
            "10481590   2  17level:unreachable shores       30\n",
            "10481323   2    206level:3. temple ruins       26\n",
            "10481318   2    206level:3. temple ruins       26\n",
            "10481325   2    206level:3. temple ruins       26\n",
            "10481498   2  17level:unreachable shores       30\n"
          ]
        }
      ]
    },
    {
      "cell_type": "code",
      "source": [],
      "metadata": {
        "id": "zEbuGC0IMBCi"
      },
      "execution_count": null,
      "outputs": []
    }
  ]
}